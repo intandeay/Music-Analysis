{
  "nbformat": 4,
  "nbformat_minor": 0,
  "metadata": {
    "colab": {
      "name": "Get Top 50 Playlist Around The World",
      "provenance": [],
      "collapsed_sections": []
    },
    "kernelspec": {
      "name": "python3",
      "display_name": "Python 3"
    }
  },
  "cells": [
    {
      "cell_type": "code",
      "metadata": {
        "id": "8R8oIn0Ty9lR",
        "colab_type": "code",
        "colab": {
          "base_uri": "https://localhost:8080/",
          "height": 194
        },
        "outputId": "1b171d5b-0202-45e4-c567-76e1656b9d0d"
      },
      "source": [
        "pip install spotipy --upgrade"
      ],
      "execution_count": null,
      "outputs": [
        {
          "output_type": "stream",
          "text": [
            "Collecting spotipy\n",
            "  Downloading https://files.pythonhosted.org/packages/65/4b/67aa672cd892a54997c9d1368bdc05b9550841b119329eb6966b4e933053/spotipy-2.15.0-py3-none-any.whl\n",
            "Requirement already satisfied, skipping upgrade: requests>=2.20.0 in /usr/local/lib/python3.6/dist-packages (from spotipy) (2.23.0)\n",
            "Requirement already satisfied, skipping upgrade: six>=1.10.0 in /usr/local/lib/python3.6/dist-packages (from spotipy) (1.15.0)\n",
            "Requirement already satisfied, skipping upgrade: idna<3,>=2.5 in /usr/local/lib/python3.6/dist-packages (from requests>=2.20.0->spotipy) (2.10)\n",
            "Requirement already satisfied, skipping upgrade: certifi>=2017.4.17 in /usr/local/lib/python3.6/dist-packages (from requests>=2.20.0->spotipy) (2020.6.20)\n",
            "Requirement already satisfied, skipping upgrade: urllib3!=1.25.0,!=1.25.1,<1.26,>=1.21.1 in /usr/local/lib/python3.6/dist-packages (from requests>=2.20.0->spotipy) (1.24.3)\n",
            "Requirement already satisfied, skipping upgrade: chardet<4,>=3.0.2 in /usr/local/lib/python3.6/dist-packages (from requests>=2.20.0->spotipy) (3.0.4)\n",
            "Installing collected packages: spotipy\n",
            "Successfully installed spotipy-2.15.0\n"
          ],
          "name": "stdout"
        }
      ]
    },
    {
      "cell_type": "code",
      "metadata": {
        "id": "4-ijM0NLyxHM",
        "colab_type": "code",
        "colab": {}
      },
      "source": [
        "import pandas as pd\n",
        "import numpy as np\n",
        "import spotipy\n",
        "from spotipy.oauth2 import SpotifyClientCredentials\n",
        "import spotipy.util as util\n",
        "import matplotlib.pyplot as plt\n",
        "from sklearn.neighbors import KNeighborsClassifier"
      ],
      "execution_count": null,
      "outputs": []
    },
    {
      "cell_type": "code",
      "metadata": {
        "id": "fdvLealb0BMt",
        "colab_type": "code",
        "colab": {}
      },
      "source": [
        "CLIENT_ID = \"\"\n",
        "CLIENT_SECRET = \"\""
      ],
      "execution_count": 3,
      "outputs": []
    },
    {
      "cell_type": "code",
      "metadata": {
        "id": "FvaJFArGzSB5",
        "colab_type": "code",
        "colab": {
          "base_uri": "https://localhost:8080/",
          "height": 71
        },
        "outputId": "585a7d7c-e6b8-4ef8-a68b-f49df8b644e0"
      },
      "source": [
        "# Setting up Spotify API\n",
        "token = SpotifyClientCredentials(client_id=CLIENT_ID, client_secret=CLIENT_SECRET)\n",
        "cache_token = token.get_access_token()\n",
        "sp = spotipy.Spotify(cache_token)"
      ],
      "execution_count": null,
      "outputs": [
        {
          "output_type": "stream",
          "text": [
            "/usr/local/lib/python3.6/dist-packages/ipykernel_launcher.py:2: DeprecationWarning: You're using 'as_dict = True'.get_access_token will return the token string directly in future versions. Please adjust your code accordingly, or use get_cached_token instead.\n",
            "  \n"
          ],
          "name": "stderr"
        }
      ]
    },
    {
      "cell_type": "code",
      "metadata": {
        "id": "aCHthq2u2jaK",
        "colab_type": "code",
        "colab": {}
      },
      "source": [
        "def analyze_playlist(creator, playlist_id):\n",
        "\n",
        "    # Method to retrieve the playlist and audio features from each songs\n",
        "    # This method is credited to Sudharshan Ashok (https://sudharshan-ashok.github.io/)\n",
        "\n",
        "    # Create empty dataframe\n",
        "    playlist_features_list = [\"artist\",\"album\",\"track_name\",  \"track_id\",\n",
        "                              \"danceability\",\"energy\",\"key\",\"loudness\",\"mode\", \n",
        "                              \"speechiness\",\"instrumentalness\",\"liveness\",\n",
        "                              \"acousticness\", \"valence\",\"tempo\", \"duration_ms\",\n",
        "                              \"time_signature\"\n",
        "                              ]\n",
        "    \n",
        "    playlist_df = pd.DataFrame(columns = playlist_features_list)\n",
        "    \n",
        "    # Loop through every track in the playlist, extract features and append the features to the playlist df\n",
        "    \n",
        "    playlist = sp.user_playlist_tracks(creator, playlist_id)[\"items\"]\n",
        "    for track in playlist:\n",
        "        # Create empty dict\n",
        "        playlist_features = {}\n",
        "        # Get metadata\n",
        "        playlist_features[\"artist\"] = track[\"track\"][\"album\"][\"artists\"][0][\"name\"]\n",
        "        playlist_features[\"album\"] = track[\"track\"][\"album\"][\"name\"]\n",
        "        playlist_features[\"track_name\"] = track[\"track\"][\"name\"]\n",
        "        playlist_features[\"track_id\"] = track[\"track\"][\"id\"]\n",
        "        \n",
        "        # Get audio features\n",
        "        audio_features = sp.audio_features(playlist_features[\"track_id\"])[0]\n",
        "        for feature in playlist_features_list[4:]:\n",
        "            playlist_features[feature] = audio_features[feature]\n",
        "        \n",
        "        # Concat the dfs\n",
        "        track_df = pd.DataFrame(playlist_features, index = [0])\n",
        "        playlist_df = pd.concat([playlist_df, track_df], ignore_index = True)\n",
        "        \n",
        "    return playlist_df"
      ],
      "execution_count": null,
      "outputs": []
    },
    {
      "cell_type": "code",
      "metadata": {
        "id": "937x22NG4C_2",
        "colab_type": "code",
        "colab": {}
      },
      "source": [
        "# Collecting data set\n",
        "\n",
        "ina_pl = analyze_playlist(\"spotifycharts\", \"37i9dQZEVXbObFQZ3JLcXt\")\n",
        "ina_pl[\"Country\"] = \"INA\"\n",
        "\n",
        "jpn_pl = analyze_playlist(\"spotifycharts\", \"37i9dQZEVXbKXQ4mDTEBXq\")\n",
        "jpn_pl[\"Country\"] = \"JPN\"\n",
        "\n",
        "esp_pl = analyze_playlist(\"spotifycharts\", \"37i9dQZEVXbNFJfN1Vw8d9\")\n",
        "esp_pl[\"Country\"] = \"ESP\"\n",
        "\n",
        "ger_pl = analyze_playlist(\"spotifycharts\", \"37i9dQZEVXbJiZcmkrIHGU\")\n",
        "ger_pl[\"Country\"] = \"GER\""
      ],
      "execution_count": null,
      "outputs": []
    },
    {
      "cell_type": "code",
      "metadata": {
        "id": "gCrwjsR8ev4-",
        "colab_type": "code",
        "colab": {}
      },
      "source": [
        "usa_pl = analyze_playlist(\"spotifycharts\", \"37i9dQZEVXbLRQDuF5jeBp\")\n",
        "usa_pl[\"Country\"] = \"USA\"\n",
        "\n",
        "ned_pl = analyze_playlist(\"spotifycharts\", \"37i9dQZEVXbKCF6dqVpDkS\")\n",
        "ned_pl[\"Country\"] = \"NED\"\n",
        "\n",
        "gbp_pl = analyze_playlist(\"spotifycharts\", \"37i9dQZEVXbLnolsZ8PSNw\")\n",
        "gbp_pl[\"Country\"] = \"GBP\"\n",
        "\n",
        "swe_pl = analyze_playlist(\"spotifycharts\", \"37i9dQZEVXbLoATJ81JYXz\")\n",
        "swe_pl[\"Country\"] = \"SWE\""
      ],
      "execution_count": null,
      "outputs": []
    },
    {
      "cell_type": "code",
      "metadata": {
        "id": "5P6QRgLpfN_A",
        "colab_type": "code",
        "colab": {}
      },
      "source": [
        "ita_pl = analyze_playlist(\"spotifycharts\", \"37i9dQZEVXbIQnj7RRhdSX\")\n",
        "ita_pl[\"Country\"] = \"ITA\"\n",
        "\n",
        "bra_pl = analyze_playlist(\"spotifycharts\", \"37i9dQZEVXbMXbN3EUUhlg\")\n",
        "bra_pl[\"Country\"] = \"BRA\"\n",
        "\n",
        "arg_pl = analyze_playlist(\"spotifycharts\", \"37i9dQZEVXbMMy2roB9myp\")\n",
        "arg_pl[\"Country\"] = \"ARG\"\n",
        "\n",
        "mex_pl = analyze_playlist(\"spotifycharts\", \"37i9dQZEVXbO3qyFxbkOE1\")\n",
        "mex_pl[\"Country\"] = \"MEX\""
      ],
      "execution_count": null,
      "outputs": []
    },
    {
      "cell_type": "code",
      "metadata": {
        "id": "-8i5sGjyiKnm",
        "colab_type": "code",
        "colab": {}
      },
      "source": [
        "global_pl = analyze_playlist(\"spotifycharts\", \"37i9dQZEVXbMDoHDwVN2tF\")\n",
        "global_pl[\"Country\"] = \"GLOBAL\""
      ],
      "execution_count": null,
      "outputs": []
    }
  ]
}